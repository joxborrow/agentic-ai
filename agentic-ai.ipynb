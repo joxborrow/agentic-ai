{
 "cells": [
  {
   "cell_type": "code",
   "execution_count": 1,
   "id": "2d6f2d5b",
   "metadata": {},
   "outputs": [
    {
     "name": "stdout",
     "output_type": "stream",
     "text": [
      " In the context of Artificial Intelligence (AI), RAG is not a standard term. However, it might be derived from \"Red-Amber-Green\" (RAG) system which is often used in project management for indicating the status of tasks or projects.\n",
      "\n",
      "1. Red: Indicates high risk, urgent action required\n",
      "2. Amber: Indicates medium risk, needs monitoring\n",
      "3. Green: Indicates low risk, no immediate action required\n",
      "\n",
      "If you are referring to a different context, could you please provide more details? I'm here to help!\n"
     ]
    }
   ],
   "source": [
    "import ollama\n",
    "\n",
    "response = ollama.chat(\n",
    "    model='mistral',\n",
    "    messages=[\n",
    "        {'role':'user', 'content':'What is RAG in AI?'}\n",
    "    ]\n",
    ")\n",
    "\n",
    "print(response['message']['content'])"
   ]
  },
  {
   "cell_type": "code",
   "execution_count": 4,
   "id": "3ff314c3",
   "metadata": {},
   "outputs": [
    {
     "name": "stderr",
     "output_type": "stream",
     "text": [
      "/tmp/ipykernel_38835/3599333997.py:4: LangChainDeprecationWarning: The class `Ollama` was deprecated in LangChain 0.3.1 and will be removed in 1.0.0. An updated version of the class exists in the :class:`~langchain-ollama package and should be used instead. To use it run `pip install -U :class:`~langchain-ollama` and import as `from :class:`~langchain_ollama import OllamaLLM``.\n",
      "  llm = Ollama(model='mistral')\n",
      "/tmp/ipykernel_38835/3599333997.py:10: LangChainDeprecationWarning: LangChain agents will continue to be supported, but it is recommended for new use cases to be built with LangGraph. LangGraph offers a more flexible and full-featured framework for building agents, including support for tool-calling, persistence of state, and human-in-the-loop workflows. For details, refer to the `LangGraph documentation <https://langchain-ai.github.io/langgraph/>`_ as well as guides for `Migrating from AgentExecutor <https://python.langchain.com/docs/how_to/migrate_agent/>`_ and LangGraph's `Pre-built ReAct agent <https://langchain-ai.github.io/langgraph/how-tos/create-react-agent/>`_.\n",
      "  agent = initialize_agent(tools, llm, agent=AgentType.ZERO_SHOT_REACT_DESCRIPTION)\n",
      "/tmp/ipykernel_38835/3599333997.py:12: LangChainDeprecationWarning: The method `Chain.run` was deprecated in langchain 0.1.0 and will be removed in 1.0. Use :meth:`~invoke` instead.\n",
      "  response = agent.run('Repeat this: MCP tools are modular.')\n"
     ]
    },
    {
     "name": "stdout",
     "output_type": "stream",
     "text": [
      "MCP tools are modular.\n"
     ]
    }
   ],
   "source": [
    "from langchain_community.llms import Ollama\n",
    "from langchain.agents import initialize_agent, Tool, AgentType\n",
    "\n",
    "llm = Ollama(model='mistral')\n",
    "\n",
    "tools = [\n",
    "    Tool(name=\"EchoTool\", func=lambda x: x, description=\"Echoes the input back.\")\n",
    "    ]\n",
    "\n",
    "agent = initialize_agent(tools, llm, agent=AgentType.ZERO_SHOT_REACT_DESCRIPTION)\n",
    "\n",
    "response = agent.run('Repeat this: MCP tools are modular.')\n",
    "print(response)"
   ]
  },
  {
   "cell_type": "markdown",
   "id": "4b447da2",
   "metadata": {},
   "source": [
    "## Chapter 3"
   ]
  },
  {
   "cell_type": "code",
   "execution_count": 9,
   "id": "7bc916cc",
   "metadata": {},
   "outputs": [
    {
     "name": "stdout",
     "output_type": "stream",
     "text": [
      "\n",
      "\n",
      "\u001b[1m> Entering new AgentExecutor chain...\u001b[0m\n"
     ]
    },
    {
     "name": "stdout",
     "output_type": "stream",
     "text": [
      "\u001b[32;1m\u001b[1;3m The number 9 can be converted into a string, then multiplied by 10. This can be done using the Multiplier tool.\n",
      "Action: Multiplier\n",
      "Action Input: \"9\"\u001b[0m\n",
      "Observation: \u001b[36;1m\u001b[1;3m90\u001b[0m\n",
      "Thought:\u001b[32;1m\u001b[1;3m I now know the final answer.\n",
      "Final Answer: 90 is the result of multiplying 9 by 10.\u001b[0m\n",
      "\n",
      "\u001b[1m> Finished chain.\u001b[0m\n",
      "90 is the result of multiplying 9 by 10.\n"
     ]
    }
   ],
   "source": [
    "# Step by Step Create your agent\n",
    "\n",
    "from langchain.agents import Tool\n",
    "\n",
    "# 1) Define your tools\n",
    "def multiply_by_ten(text: str) -> str:\n",
    "    return str(int(text) * 10)\n",
    "\n",
    "tools = [\n",
    "    Tool(name=\"Multiplier\", \n",
    "         func=multiply_by_ten, \n",
    "         description=\"Multiplies a number by 10. Input should be a number as string.\")\n",
    "]\n",
    "\n",
    "# 2) Initialize your LLM\n",
    "from langchain_community.llms import Ollama\n",
    "llm = Ollama(model='mistral')\n",
    "\n",
    "# 3) Create your agent\n",
    "from langchain.agents import initialize_agent, AgentType\n",
    "agent_executor = initialize_agent(\n",
    "    tools=tools,\n",
    "    llm=llm,\n",
    "    agent=AgentType.ZERO_SHOT_REACT_DESCRIPTION,\n",
    "    verbose=True\n",
    ")\n",
    "\n",
    "# 4) Run your agent\n",
    "response = agent_executor.run(\"What is 9 multiplied by 10?\")\n",
    "print(response)"
   ]
  },
  {
   "cell_type": "code",
   "execution_count": 11,
   "id": "3b71cad5",
   "metadata": {},
   "outputs": [
    {
     "name": "stdout",
     "output_type": "stream",
     "text": [
      "\n",
      "\n",
      "\u001b[1m> Entering new AgentExecutor chain...\u001b[0m\n"
     ]
    },
    {
     "name": "stdout",
     "output_type": "stream",
     "text": [
      "\u001b[32;1m\u001b[1;3m To find out what MCP stands for, I will use the SimpleSearch tool.\n",
      "Action: SimpleSearch\n",
      "Action Input: MCP\u001b[0m\n",
      "Observation: \u001b[36;1m\u001b[1;3mMCP (Model Context Protocol) standardizes tool calls using JSON metadata.\u001b[0m\n",
      "Thought:\u001b[32;1m\u001b[1;3m I now know the final answer.\n",
      "Final Answer: MCP (Model Context Protocol) standardizes tool calls using JSON metadata.\u001b[0m\n",
      "\n",
      "\u001b[1m> Finished chain.\u001b[0m\n",
      "MCP (Model Context Protocol) standardizes tool calls using JSON metadata.\n"
     ]
    }
   ],
   "source": [
    "# Write a custom function\n",
    "def search_tool(query: str) -> str:\n",
    "    database = {\n",
    "        \"LangChain\":\"LangChain is a framework for building LLM applications with modular components.\",\n",
    "        \"MCP\":\"MCP (Model Context Protocol) standardizes tool calls using JSON metadata.\",\n",
    "        \"RAG\":\"RAG connects LLMs with external data using vector search and embedding\"\n",
    "    }\n",
    "    return database.get(query, \"No results found.\")\n",
    "\n",
    "# Wrap in a Tool\n",
    "from langchain.agents import Tool\n",
    "search = Tool(\n",
    "    name=\"SimpleSearch\",\n",
    "    func=search_tool,\n",
    "    description=\"Looks up definitions for LangChain, MCP, or RAG based on a keyword.\"\n",
    ")\n",
    "\n",
    "tools = [search]\n",
    "\n",
    "# Initialize the Agent\n",
    "from langchain_community.llms import Ollama\n",
    "from langchain.agents import initialize_agent, AgentType\n",
    "\n",
    "# initialize the llm\n",
    "llm = Ollama(model=\"mistral\")\n",
    "\n",
    "agent = initialize_agent(\n",
    "    tools=tools,\n",
    "    llm=llm,\n",
    "    agent=AgentType.ZERO_SHOT_REACT_DESCRIPTION,\n",
    "    verbose=True\n",
    ")\n",
    "\n",
    "# Run and observe\n",
    "response = agent.run(\"What is MCP?\")\n",
    "print(response)"
   ]
  },
  {
   "cell_type": "code",
   "execution_count": null,
   "id": "d0047bfc",
   "metadata": {},
   "outputs": [],
   "source": []
  }
 ],
 "metadata": {
  "kernelspec": {
   "display_name": "agentic-ai",
   "language": "python",
   "name": "python3"
  },
  "language_info": {
   "codemirror_mode": {
    "name": "ipython",
    "version": 3
   },
   "file_extension": ".py",
   "mimetype": "text/x-python",
   "name": "python",
   "nbconvert_exporter": "python",
   "pygments_lexer": "ipython3",
   "version": "3.10.13"
  }
 },
 "nbformat": 4,
 "nbformat_minor": 5
}
